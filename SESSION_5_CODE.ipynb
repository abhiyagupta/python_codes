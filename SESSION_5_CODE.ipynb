{
 "cells": [
  {
   "cell_type": "markdown",
   "id": "76330f73",
   "metadata": {},
   "source": [
    "# SYSTEM DEFINED FUNCTIONS VS USER DEFINED FUNCTIONS"
   ]
  },
  {
   "cell_type": "code",
   "execution_count": null,
   "id": "f2c5cb6e",
   "metadata": {},
   "outputs": [],
   "source": [
    "# SYSTEM DEFINED FUNCTIONS"
   ]
  },
  {
   "cell_type": "code",
   "execution_count": null,
   "id": "1ada97b1",
   "metadata": {},
   "outputs": [],
   "source": [
    "import pandas as pd\n",
    "prod_sales=pd.DataFrame({'product':['apple','dell','lenovo','hp','acer','samsung'],\n",
    "                     'jan_sales':[200,200,500,900,230,560],\n",
    "                     'feb_sales':[200,340,500,450,230,900],\n",
    "                     'mar_sales':[240,200,500,980,230,560],\n",
    "                     'apr_sales':[200,200,490,900,230,510],\n",
    "                     'may_sales':[300,200,500,900,730,560],\n",
    "                     'jun_sales':[600,200,500,500,230,510]})\n",
    "prod_sales\n",
    "\n",
    "prod_sales_v1=prod_sales.copy()\n",
    "prod_sales_v1"
   ]
  },
  {
   "cell_type": "code",
   "execution_count": null,
   "id": "d7eb099f",
   "metadata": {
    "scrolled": true
   },
   "outputs": [],
   "source": [
    "prod_sales_v1['avg_sales'] = prod_sales_v1[['jan_sales','feb_sales','mar_sales','apr_sales','may_sales','jun_sales']].mean(axis=1)\n",
    "prod_sales_v1['total_sales'] = prod_sales_v1[['jan_sales','feb_sales','mar_sales','apr_sales','may_sales','jun_sales']].sum(axis=1)\n",
    "prod_sales_v1['min_sales'] = prod_sales_v1[['jan_sales','feb_sales','mar_sales','apr_sales','may_sales','jun_sales']].min(axis=1)\n",
    "prod_sales_v1['max_sales'] = prod_sales_v1[['jan_sales','feb_sales','mar_sales','apr_sales','may_sales','jun_sales']].max(axis=1)\n",
    "prod_sales_v1"
   ]
  },
  {
   "cell_type": "code",
   "execution_count": null,
   "id": "d40c3396",
   "metadata": {},
   "outputs": [],
   "source": [
    "# OR"
   ]
  },
  {
   "cell_type": "code",
   "execution_count": null,
   "id": "905cfa0b",
   "metadata": {},
   "outputs": [],
   "source": [
    "import numpy as np\n",
    "array_values=['jan_sales','feb_sales','mar_sales','apr_sales','may_sales','jun_sales']\n",
    "\n",
    "prod_sales_v2=prod_sales.copy()\n",
    "\n",
    "prod_sales_v2['avg_sales']=prod_sales_v2[array_values].mean(axis=1)\n",
    "prod_sales_v2['sum_sales']=prod_sales_v2[array_values].sum(axis=1)\n",
    "prod_sales_v2['min_sales']=prod_sales_v2[array_values].min(axis=1)\n",
    "prod_sales_v2['max_sales']=prod_sales_v2[array_values].max(axis=1)\n",
    "\n",
    "prod_sales_v2"
   ]
  },
  {
   "cell_type": "code",
   "execution_count": null,
   "id": "95bc7d7e",
   "metadata": {},
   "outputs": [],
   "source": [
    "# USER DEFINED FUNCTION"
   ]
  },
  {
   "cell_type": "code",
   "execution_count": null,
   "id": "618bf99f",
   "metadata": {},
   "outputs": [],
   "source": [
    "prod_sales_v3=prod_sales.copy()\n",
    "array_values=['jan_sales','feb_sales','mar_sales','apr_sales','may_sales','jun_sales']\n",
    "\n",
    "def sum_all(row):\n",
    "    return sum(row[array_values])\n",
    "\n",
    "def min_all(row):\n",
    "    return min(row[array_values])\n",
    "\n",
    "def max_all(row):\n",
    "    return max(row[array_values])\n",
    "\n",
    "prod_sales_v3['sum_sales']=prod_sales_v3.apply(sum_all,axis=1)\n",
    "prod_sales_v3['min_sales']=prod_sales_v3.apply(min_all,axis=1)\n",
    "prod_sales_v3['max_sales']=prod_sales_v3.apply(max_all,axis=1)\n",
    "\n",
    "prod_sales_v3"
   ]
  },
  {
   "cell_type": "markdown",
   "id": "9348b751",
   "metadata": {},
   "source": [
    "# USER DEFINED FUNCTIONS TO A IMPORTING DATAFRAME "
   ]
  },
  {
   "cell_type": "code",
   "execution_count": null,
   "id": "90dc894a",
   "metadata": {},
   "outputs": [],
   "source": [
    "import pandas as pd\n",
    "MED_2022=pd.read_excel(r'C:\\Users\\Debendra\\BATCH_202207_PYTHON\\SESSION-5\\Data\\DATA-1\\MED_STORE_2022.xlsx',sheet_name='MED_AUS_DATA')\n",
    "MED_2022"
   ]
  },
  {
   "cell_type": "code",
   "execution_count": null,
   "id": "d206dbc6",
   "metadata": {},
   "outputs": [],
   "source": [
    "MED_2022_v1=MED_2022[['CUSTOMER_ID','Company','GENDER','Age','STATE_CODE','NO_OF_TRIPS','Spent amount']]\n",
    "MED_2022_v1"
   ]
  },
  {
   "cell_type": "code",
   "execution_count": null,
   "id": "a2bf03ad",
   "metadata": {},
   "outputs": [],
   "source": [
    "def age_bucket(x):\n",
    "    if x < 30:\n",
    "        x = 'Young-age'\n",
    "    elif 30 <= x < 40:\n",
    "        x = 'Mid-young-age'\n",
    "    elif 40 <= x < 50:\n",
    "        x = 'Mid-age'\n",
    "    elif 50 <= x < 60:\n",
    "        x = 'Mid-old-age'    \n",
    "    elif x >= 60:\n",
    "        x = 'Old-age'    \n",
    "    return x\n",
    "\n",
    "def visit_bucket(x):\n",
    "    if x < 30:\n",
    "        x = 'Casual'\n",
    "    elif 30 <= x < 40:\n",
    "        x = 'Advance'\n",
    "    elif 40 <= x < 50:\n",
    "        x = 'Power'\n",
    "    elif x >= 50:\n",
    "        x = 'Loyal'    \n",
    "    return x\n",
    "\n",
    "def spent_bucket(x):\n",
    "    if x < 300:\n",
    "        x = 'Retail'\n",
    "    elif 300 <= x < 1000:\n",
    "        x = 'Advance'\n",
    "    elif x >= 1000:\n",
    "        x = 'Premier'   \n",
    "    return x"
   ]
  },
  {
   "cell_type": "code",
   "execution_count": null,
   "id": "41456bc9",
   "metadata": {},
   "outputs": [],
   "source": [
    "MED_2022_v1['customer_age_bucket'] = MED_2022_v1['Age'].apply(age_bucket)\n",
    "MED_2022_v1['customer_visit_bucket'] = MED_2022_v1['NO_OF_TRIPS'].apply(visit_bucket)\n",
    "MED_2022_v1['customer_spent_bucket'] = MED_2022_v1['Spent amount'].apply(spent_bucket)\n",
    "MED_2022_v1"
   ]
  },
  {
   "cell_type": "markdown",
   "id": "0c1260a2",
   "metadata": {},
   "source": [
    "# USE OF LAMBDA FUNCTION FOR FIELD ARRAY CALCULATION"
   ]
  },
  {
   "cell_type": "code",
   "execution_count": null,
   "id": "0555b85d",
   "metadata": {},
   "outputs": [],
   "source": [
    "import pandas as pd\n",
    "import numpy as np\n",
    "\n",
    "prod_sales=pd.DataFrame({'product':['apple','dell','lenovo','hp','acer','samsung'],\n",
    "                     'sales':[200,200,500,900,230,560]}\n",
    ")\n",
    "prod_sales\n",
    "\n",
    "prod_sales_v1=prod_sales.copy()\n",
    "\n",
    "prod_sales_v1['add_value'] = prod_sales_v1['sales'].apply(lambda x: x + 100)\n",
    "prod_sales_v1['sub_value'] = prod_sales_v1['sales'].apply(lambda x: x - 100)\n",
    "prod_sales_v1['mult_value'] = prod_sales_v1['sales'].apply(lambda x: x * 100)\n",
    "prod_sales_v1['div_value'] = prod_sales_v1['sales'].apply(lambda x: x / 100)\n",
    "prod_sales_v1\n"
   ]
  },
  {
   "cell_type": "markdown",
   "id": "8fd5ed4f",
   "metadata": {},
   "source": [
    "# GLOBAL VS LOCAL VARIABLE"
   ]
  },
  {
   "cell_type": "code",
   "execution_count": null,
   "id": "e42e3c53",
   "metadata": {},
   "outputs": [],
   "source": [
    "import pandas as pd\n",
    "import numpy as np\n",
    "\n",
    "company = 'GENO'; # This is global variable.\n",
    "# Function definition is here\n",
    "def select( value ):\n",
    "   # Add both the parameters and return them.\"\n",
    "   company = 'value'; # Here total is local variable.\n",
    "   print (\"Inside the function local company_value : \", value)\n",
    "   return company;\n",
    "\n",
    "# Now you can call sum function\n",
    "select( 'RELEGARE');\n",
    "print (\"Outside the function global company_value : \", company )"
   ]
  },
  {
   "cell_type": "code",
   "execution_count": null,
   "id": "ac6ca3dc",
   "metadata": {},
   "outputs": [],
   "source": [
    "# CALLING GLOBAL MACRO VARIABLE\n",
    "\n",
    "list_vars=['CUSTOMER_ID','Company','GENDER','Age','STATE_CODE','Spent amount']\n",
    "med_2022_v2=MED_2022[list_vars][(MED_2022['Company']==company)]\n",
    "med_2022_v2\n"
   ]
  },
  {
   "cell_type": "markdown",
   "id": "fa859fb9",
   "metadata": {},
   "source": [
    "# SOME INTERVIEW ASKED QUESTIONS"
   ]
  },
  {
   "cell_type": "code",
   "execution_count": null,
   "id": "721511a9",
   "metadata": {},
   "outputs": [],
   "source": [
    "# HOW TO CHECK NUMBER IS PRIME OR NOT\n",
    "\n",
    "num = 12\n",
    "# If given number is greater than 1\n",
    "if num > 1:\n",
    "    # Iterate from 2 to n / 2\n",
    "    for i in range(2, int(num/2)+1):\n",
    "        # If num is divisible by any number between\n",
    "        # 2 and n / 2, it is not prime\n",
    "        if (num % i) == 0:\n",
    "            print(num, \"is not a prime number\")\n",
    "            break\n",
    "    else:\n",
    "        print(num, \"is a prime number\")\n",
    "else:\n",
    "    print(num, \"is not a prime number\")"
   ]
  },
  {
   "cell_type": "code",
   "execution_count": null,
   "id": "37857ec0",
   "metadata": {},
   "outputs": [],
   "source": [
    "# HOW TO CHECK NUMBER IS EVEN OR ODD\n",
    "\n",
    "# A simple Python function to check\n",
    "# whether x is even or odd\n",
    " \n",
    "def evenOdd(x):\n",
    "    if (x % 2 == 0):\n",
    "        print(\"even\")\n",
    "    else:\n",
    "        print(\"odd\")\n",
    " \n",
    " \n",
    "# Driver code to call the function\n",
    "evenOdd(12)\n",
    "evenOdd(13)"
   ]
  },
  {
   "cell_type": "markdown",
   "id": "0067eebd",
   "metadata": {},
   "source": [
    "# HOW TO SCHEDULE A PYTHON PROGRAM"
   ]
  },
  {
   "cell_type": "code",
   "execution_count": null,
   "id": "2a784190",
   "metadata": {},
   "outputs": [],
   "source": [
    "# schedule a python code\n",
    "# pip install schedule\n",
    "\n",
    "import schedule\n",
    "import time\n",
    "\n",
    "def run_code():\n",
    "    print ('1. DV Analytics in Bangalore')\n",
    "    print ('2. DV Analytics is a Data Science Training Institute')\n",
    "    \n",
    "schedule.every(5).seconds.do(run_code)\n",
    "\n",
    "while 1:\n",
    "    schedule.run_pending()\n",
    "    time.sleep(1)\n",
    "    "
   ]
  },
  {
   "cell_type": "markdown",
   "id": "ea9a4c1a",
   "metadata": {},
   "source": [
    "# HOW TO AUTOMATE A PYTHON REPORT TO BE SENT AN EMAIL"
   ]
  },
  {
   "cell_type": "code",
   "execution_count": null,
   "id": "26ed5250",
   "metadata": {},
   "outputs": [],
   "source": [
    "# pip install naas-drivers\n",
    "# pip install naas\n",
    "\n",
    "import naas\n",
    "\n",
    "email_to = \"debendra33@gmail.com\"\n",
    "subject = \"hi how are you dear\"\n",
    "content = \"are you coming to the class\"\n",
    "content = print(Report)\n",
    "\n",
    "naas.notifications.send(email_to,subject,content)"
   ]
  },
  {
   "cell_type": "markdown",
   "id": "c3cebe97",
   "metadata": {},
   "source": [
    "# HOW TO READ MULTIPLE FILES FROM A FOLDER TO APPEND AND GET INTO A SINGLE DATAFRAME"
   ]
  },
  {
   "cell_type": "code",
   "execution_count": null,
   "id": "c9c3b505",
   "metadata": {},
   "outputs": [],
   "source": [
    "import pandas as pd\n",
    "import glob\n",
    "\n",
    "path=r'C:\\Users\\Debendra\\BATCH_202207_PYTHON\\SESSION-5\\Data\\ALL_CSV_FILE'\n",
    "\n",
    "  \n",
    "# csv files in the path\n",
    "files = glob.glob(path + \"\\*.csv\")\n",
    "  \n",
    "# defining an empty list to store \n",
    "# content\n",
    "med_all = pd.DataFrame()\n",
    "content = []\n",
    "  \n",
    "# checking all the csv files in the \n",
    "# specified path\n",
    "for filename in files:\n",
    "    \n",
    "    # reading content of csv file\n",
    "    # content.append(filename)\n",
    "    df = pd.read_csv(filename, index_col=None)\n",
    "    content.append(df)\n",
    "  \n",
    "# converting content to data frame\n",
    "med_all = pd.concat(content)\n",
    "print(med_all)\n",
    "\n",
    "med_all.to_excel(r'C:\\Users\\Debendra\\BATCH_202207_PYTHON\\SESSION-5\\Data\\A4.OUTPUT\\med_all.xlsx',index=None)"
   ]
  },
  {
   "cell_type": "markdown",
   "id": "dac4f12d",
   "metadata": {},
   "source": [
    "# HOW TO READ DATA FROM AN EXCEL FILE WITH MULTIPLE TABS"
   ]
  },
  {
   "cell_type": "code",
   "execution_count": null,
   "id": "891f6d9f",
   "metadata": {},
   "outputs": [],
   "source": [
    "import pandas as pd\n",
    "all_data=pd.read_excel(r'C:\\Users\\Debendra\\BATCH_202207_PYTHON\\SESSION-5\\Data\\ALL_EXCEL_TABS\\MED_ALL_2022.xlsx',sheet_name=['MED1','MED2','MED3','MED4','MED5','MED6','MED7','MED8','MED9'])\n",
    "\n",
    "med_appolo=all_data.get('MED1')\n",
    "med_cipla=all_data.get('MED2')\n",
    "med_appolo"
   ]
  },
  {
   "cell_type": "code",
   "execution_count": null,
   "id": "2c8fd1e7",
   "metadata": {},
   "outputs": [],
   "source": [
    "import pandas as pd\n",
    "all_data=pd.read_excel(r'C:\\Users\\Debendra\\BATCH_202207_PYTHON\\SESSION-5\\Data\\ALL_EXCEL_TABS\\MED_ALL_2022.xlsx',sheet_name=['MED1','MED2','MED3','MED4','MED5','MED6','MED7','MED8','MED9'])\n",
    "\n",
    "all_data"
   ]
  },
  {
   "cell_type": "code",
   "execution_count": null,
   "id": "e1865095",
   "metadata": {},
   "outputs": [],
   "source": [
    "# OR"
   ]
  },
  {
   "cell_type": "code",
   "execution_count": null,
   "id": "c61cf581",
   "metadata": {},
   "outputs": [],
   "source": [
    "import pandas as pd\n",
    "all_data=pd.read_excel(r'C:\\Users\\Debendra\\BATCH_202207_PYTHON\\SESSION-5\\Data\\ALL_EXCEL_TABS\\MED_ALL_2022.xlsx',sheet_name=None)\n",
    "\n",
    "all_data"
   ]
  },
  {
   "cell_type": "code",
   "execution_count": null,
   "id": "6d14dedf",
   "metadata": {},
   "outputs": [],
   "source": [
    "med_all=pd.concat(all_data[frame] for frame in all_data.keys())\n",
    "\n",
    "med_all"
   ]
  },
  {
   "cell_type": "markdown",
   "id": "e90f0588",
   "metadata": {},
   "source": [
    "# HOW TO EXPORT AND STORE MULTIPLE DATAFRAMES INTO AN EXCEL FILE WITH MULTIPLE TABS"
   ]
  },
  {
   "cell_type": "code",
   "execution_count": null,
   "id": "946d7b93",
   "metadata": {},
   "outputs": [],
   "source": [
    "import pandas as pd\n",
    "all_data=pd.read_excel(r'C:\\Users\\Debendra\\BATCH_202207_PYTHON\\SESSION-5\\Data\\ALL_EXCEL_TABS\\MED_ALL_2022.xlsx',sheet_name=['MED1','MED2','MED3','MED4','MED5','MED6','MED7','MED8','MED9'])\n",
    "\n",
    "med_appolo=all_data.get('MED1')\n",
    "med_cipla=all_data.get('MED2')\n",
    "med_dr_reddy=all_data.get('MED3')\n",
    "med_dr_reddy"
   ]
  },
  {
   "cell_type": "code",
   "execution_count": null,
   "id": "54f49d27",
   "metadata": {},
   "outputs": [],
   "source": [
    "all_datasets={'MED1':med_appolo,'MED2':med_cipla,'MED3':med_dr_reddy}\n",
    "\n",
    "writer=pd.ExcelWriter(r'C:\\Users\\Debendra\\BATCH_202207_PYTHON\\SESSION-5\\Data\\A4.OUTPUT\\med_all_exp.xlsx',engine='xlsxwriter')\n",
    "for sheet_name in all_datasets.keys():\n",
    "    all_datasets[sheet_name].to_excel(writer,sheet_name=sheet_name,index=False)\n",
    "\n",
    "writer.save()    "
   ]
  },
  {
   "cell_type": "code",
   "execution_count": null,
   "id": "ec824093",
   "metadata": {},
   "outputs": [],
   "source": []
  }
 ],
 "metadata": {
  "kernelspec": {
   "display_name": "Python 3 (ipykernel)",
   "language": "python",
   "name": "python3"
  },
  "language_info": {
   "codemirror_mode": {
    "name": "ipython",
    "version": 3
   },
   "file_extension": ".py",
   "mimetype": "text/x-python",
   "name": "python",
   "nbconvert_exporter": "python",
   "pygments_lexer": "ipython3",
   "version": "3.9.7"
  }
 },
 "nbformat": 4,
 "nbformat_minor": 5
}
